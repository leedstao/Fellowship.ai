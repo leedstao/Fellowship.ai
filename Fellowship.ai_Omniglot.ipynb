{
 "cells": [
  {
   "cell_type": "markdown",
   "metadata": {},
   "source": [
    "# Fellowship.ai Challange"
   ]
  },
  {
   "cell_type": "markdown",
   "metadata": {},
   "source": [
    "This notebook is for the Fellowship.ai challange. \n",
    "\n",
    "It uses the Omniglot dataset which contains 1623 handwritten characters from 50 different alphabets with 20 examples for each alphabet.\n",
    "\n",
    "We will use two files from the dataset. They can be found by the following two links.\n",
    "https://github.com/brendenlake/omniglot/blob/master/python/images_background.zip\n",
    "https://github.com/brendenlake/omniglot/blob/master/python/images_evaluation.zip\n",
    "\n",
    "The unzipped files saved in the datasets folder.\n"
   ]
  },
  {
   "cell_type": "markdown",
   "metadata": {},
   "source": [
    "## Import necessary packages"
   ]
  },
  {
   "cell_type": "code",
   "execution_count": 1,
   "metadata": {},
   "outputs": [
    {
     "name": "stderr",
     "output_type": "stream",
     "text": [
      "Using TensorFlow backend.\n"
     ]
    }
   ],
   "source": [
    "import sys\n",
    "import os\n",
    "from scipy.misc import imread\n",
    "import matplotlib.pyplot as plt\n",
    "from tqdm import tqdm\n",
    "\n",
    "import numpy as np\n",
    "import tensorflow as tf\n"
   ]
  },
  {
   "cell_type": "markdown",
   "metadata": {},
   "source": [
    " "
   ]
  },
  {
   "cell_type": "markdown",
   "metadata": {},
   "source": [
    "## Load the dataset"
   ]
  },
  {
   "cell_type": "code",
   "execution_count": 2,
   "metadata": {},
   "outputs": [],
   "source": [
    "def load_data(path):\n",
    "    datas=[]\n",
    "    \n",
    "    for alphas in os.listdir(path):\n",
    "        if not alphas.startswith('.'):\n",
    "            print('Loading alphabets from ' + alphas)\n",
    "            alphas_path = os.path.join(path, alphas)\n",
    "        \n",
    "            for char in os.listdir(alphas_path):\n",
    "                if not char.startswith('.'):\n",
    "                    images_temp = []\n",
    "                char_path = os.path.join(alphas_path, char)\n",
    "            \n",
    "                if not os.path.isdir(char_path):\n",
    "                    continue\n",
    "                \n",
    "                for file in os.listdir(char_path):\n",
    "                    if not file.startswith('.'):\n",
    "                        image_path = os.path.join(char_path, file)\n",
    "                        image = imread(image_path)\n",
    "                \n",
    "                        image = image / 255 #standardize image\n",
    "                \n",
    "                        images_temp.append(image)\n",
    "                \n",
    "                try:\n",
    "                    datas.append(np.stack(images_temp))\n",
    "                except ValueError as e:\n",
    "                    print(e)\n",
    "                    print(\"Error - Images category:\", images_temp)\n",
    "\n",
    "    datas = np.stack(datas)\n",
    "    \n",
    "    return datas"
   ]
  },
  {
   "cell_type": "code",
   "execution_count": 3,
   "metadata": {},
   "outputs": [
    {
     "name": "stderr",
     "output_type": "stream",
     "text": [
      "/anaconda3/lib/python3.6/site-packages/ipykernel_launcher.py:20: DeprecationWarning: `imread` is deprecated!\n",
      "`imread` is deprecated in SciPy 1.0.0, and will be removed in 1.2.0.\n",
      "Use ``imageio.imread`` instead.\n"
     ]
    },
    {
     "name": "stdout",
     "output_type": "stream",
     "text": [
      "Loading training data ...\n",
      "Loading alphabets from Gujarati\n",
      "Loading alphabets from Korean\n",
      "Loading alphabets from Arcadian\n",
      "Loading alphabets from Malay_(Jawi_-_Arabic)\n",
      "Loading alphabets from Grantha\n",
      "Loading alphabets from Blackfoot_(Canadian_Aboriginal_Syllabics)\n",
      "Loading alphabets from Balinese\n",
      "Loading alphabets from Futurama\n",
      "Loading alphabets from N_Ko\n",
      "Loading alphabets from Burmese_(Myanmar)\n",
      "Loading alphabets from Anglo-Saxon_Futhorc\n",
      "Loading alphabets from Mkhedruli_(Georgian)\n",
      "Loading alphabets from Latin\n",
      "Loading alphabets from Braille\n",
      "Loading alphabets from Sanskrit\n",
      "Loading alphabets from Japanese_(hiragana)\n",
      "Loading alphabets from Tagalog\n",
      "Loading alphabets from Greek\n",
      "Loading alphabets from Ojibwe_(Canadian_Aboriginal_Syllabics)\n",
      "Loading alphabets from Japanese_(katakana)\n",
      "Loading alphabets from Early_Aramaic\n",
      "Loading alphabets from Hebrew\n",
      "Loading alphabets from Tifinagh\n",
      "Loading alphabets from Asomtavruli_(Georgian)\n",
      "Loading alphabets from Armenian\n",
      "Loading alphabets from Syriac_(Estrangelo)\n",
      "Loading alphabets from Alphabet_of_the_Magi\n",
      "Loading alphabets from Cyrillic\n",
      "Loading alphabets from Bengali\n",
      "Loading alphabets from Inuktitut_(Canadian_Aboriginal_Syllabics)\n",
      "Training data loaded. Data size (964, 20, 105, 105)\n",
      "Loading evaluation data ...\n",
      "Loading alphabets from Oriya\n",
      "Loading alphabets from ULOG\n",
      "Loading alphabets from Tengwar\n",
      "Loading alphabets from Malayalam\n",
      "Loading alphabets from Atlantean\n",
      "Loading alphabets from Keble\n",
      "Loading alphabets from Manipuri\n",
      "Loading alphabets from Gurmukhi\n",
      "Loading alphabets from Tibetan\n",
      "Loading alphabets from Aurek-Besh\n",
      "Loading alphabets from Ge_ez\n",
      "Loading alphabets from Angelic\n",
      "Loading alphabets from Old_Church_Slavonic_(Cyrillic)\n",
      "Loading alphabets from Kannada\n",
      "Loading alphabets from Avesta\n",
      "Loading alphabets from Mongolian\n",
      "Loading alphabets from Syriac_(Serto)\n",
      "Loading alphabets from Atemayar_Qelisayer\n",
      "Loading alphabets from Sylheti\n",
      "Loading alphabets from Glagolitic\n",
      "Evaluation data loaded. Data size (659, 20, 105, 105)\n"
     ]
    }
   ],
   "source": [
    "data_path = 'datasets/'\n",
    "train_path = os.path.join(data_path, 'images_background')\n",
    "val_path = os.path.join(data_path, 'images_evaluation')\n",
    "\n",
    "print('Loading training data ...')\n",
    "train_data = load_data(train_path)\n",
    "print('Training data loaded. Data size', train_data.shape)\n",
    "\n",
    "print('Loading evaluation data ...')\n",
    "val_data = load_data(val_path)\n",
    "print('Evaluation data loaded. Data size', val_data.shape)\n"
   ]
  },
  {
   "cell_type": "markdown",
   "metadata": {},
   "source": [
    "We notice that each example is a png file with 105 by 105 pixels in black and white."
   ]
  },
  {
   "cell_type": "markdown",
   "metadata": {},
   "source": [
    "## Helper functions"
   ]
  },
  {
   "cell_type": "markdown",
   "metadata": {},
   "source": [
    "The following function generate the batch for each training iteration."
   ]
  },
  {
   "cell_type": "code",
   "execution_count": 4,
   "metadata": {},
   "outputs": [],
   "source": [
    "def batch(data, batch_size):\n",
    "    n_classes, n_examples, w, h = data.shape\n",
    "    \n",
    "    ## Initialise the return dataset\n",
    "    pairs=[np.zeros((batch_size, w, h, 1)) for i in range(2)]\n",
    "    \n",
    "    ## Make a target vector with half same (0) and half other (1) categories\n",
    "    targets=np.zeros((batch_size,))\n",
    "    targets[batch_size//2:] = 1\n",
    "    \n",
    "    ## Pick the target categories of characters\n",
    "    categories = np.random.choice(n_classes, size=(batch_size,), replace=False)\n",
    "    \n",
    "    for i in range(batch_size):\n",
    "        category = categories[i]\n",
    "        \n",
    "        if targets[i] == 0: \n",
    "            category_2 = category # pick the same category\n",
    "        else:\n",
    "            ## pick a different category\n",
    "            category_2 = (category + np.random.randint(1, n_classes)) % n_classes\n",
    "        \n",
    "        ## Choose two indixes of examples\n",
    "        m = np.random.randint(0, n_examples)\n",
    "        n = np.random.randint(0, n_examples)\n",
    "        \n",
    "        pairs[0][i,:,:,:] = data[category, m].reshape(w, h, 1)\n",
    "        pairs[1][i,:,:,:] = data[category_2, n].reshape(w, h, 1)\n",
    "  \n",
    "    return pairs, targets"
   ]
  },
  {
   "cell_type": "markdown",
   "metadata": {},
   "source": [
    "This function generate the evaluation samples, with the first one (of the support_set) matching the given character (test_image)."
   ]
  },
  {
   "cell_type": "code",
   "execution_count": 5,
   "metadata": {},
   "outputs": [],
   "source": [
    "def oneshot_task(data, N):\n",
    "    n_val, n_examples_val, w, h = data.shape\n",
    "\n",
    "    categories = np.random.choice(n_val, size=(N,), replace=False)\n",
    "    true_category = categories[0]\n",
    "    \n",
    "    indices = np.random.randint(0, n_examples_val, size=(N,))\n",
    "    \n",
    "    m, n = np.random.choice(n_examples_val, replace=False, size=(2,))\n",
    "    \n",
    "    ## Create a list with the same image N times as test image\n",
    "    test_image = np.asarray([data[true_category, m, :,:]]*N).reshape(N, w, h, 1)\n",
    "    \n",
    "    support_set = data[categories, indices, :,:]\n",
    "    \n",
    "    ## Create the targets and fill in true character\n",
    "    targets = np.zeros((N,))    \n",
    "    targets[0] = 1 # Set the first target to be the true character\n",
    "    support_set[0, :,:] = data[true_category, n] # Fill in this caracter\n",
    "    \n",
    "    ## Reshape the data\n",
    "    support_set = support_set.reshape(N,w,h,1)\n",
    "    pairs = [test_image, support_set]\n",
    "\n",
    "    return pairs, targets"
   ]
  },
  {
   "cell_type": "code",
   "execution_count": 6,
   "metadata": {},
   "outputs": [
    {
     "name": "stdout",
     "output_type": "stream",
     "text": [
      "Pairs size 2\n"
     ]
    },
    {
     "data": {
      "image/png": "[encoded data removed]",
      "text/plain": [
       "<Figure size 432x288 with 1 Axes>"
      ]
     },
     "metadata": {
      "needs_background": "light"
     },
     "output_type": "display_data"
    },
    {
     "data": {
      "image/png": "[encoded data removed]",
      "text/plain": [
       "<Figure size 432x288 with 1 Axes>"
      ]
     },
     "metadata": {
      "needs_background": "light"
     },
     "output_type": "display_data"
    },
    {
     "name": "stdout",
     "output_type": "stream",
     "text": [
      "similarity/distance: 0.0\n"
     ]
    },
    {
     "data": {
      "image/png": "[encoded data removed]",
      "text/plain": [
       "<Figure size 432x288 with 1 Axes>"
      ]
     },
     "metadata": {
      "needs_background": "light"
     },
     "output_type": "display_data"
    },
    {
     "data": {
      "image/png": "[encoded data removed]",
      "text/plain": [
       "<Figure size 432x288 with 1 Axes>"
      ]
     },
     "metadata": {
      "needs_background": "light"
     },
     "output_type": "display_data"
    },
    {
     "name": "stdout",
     "output_type": "stream",
     "text": [
      "similarity/distance: 0.0\n"
     ]
    },
    {
     "data": {
      "image/png": "[encoded data removed]",
      "text/plain": [
       "<Figure size 432x288 with 1 Axes>"
      ]
     },
     "metadata": {
      "needs_background": "light"
     },
     "output_type": "display_data"
    },
    {
     "data": {
      "image/png": "[encoded data removed]",
      "text/plain": [
       "<Figure size 432x288 with 1 Axes>"
      ]
     },
     "metadata": {
      "needs_background": "light"
     },
     "output_type": "display_data"
    },
    {
     "name": "stdout",
     "output_type": "stream",
     "text": [
      "similarity/distance: 1.0\n"
     ]
    },
    {
     "data": {
      "image/png": "[encoded data removed]",
      "text/plain": [
       "<Figure size 432x288 with 1 Axes>"
      ]
     },
     "metadata": {
      "needs_background": "light"
     },
     "output_type": "display_data"
    },
    {
     "data": {
      "image/png": "[encoded data removed]",
      "text/plain": [
       "<Figure size 432x288 with 1 Axes>"
      ]
     },
     "metadata": {
      "needs_background": "light"
     },
     "output_type": "display_data"
    },
    {
     "name": "stdout",
     "output_type": "stream",
     "text": [
      "similarity/distance: 1.0\n"
     ]
    }
   ],
   "source": [
    "# test the helper function\n",
    "\n",
    "pairs, targets = batch(train_data, 4)\n",
    "\n",
    "print('Pairs size', len(pairs))\n",
    "\n",
    "for i in range(len(pairs[0])):\n",
    "    image = np.reshape(pairs[0][i],(105,105))\n",
    "    plt.imshow(image)\n",
    "    plt.show()\n",
    "    image = np.reshape(pairs[1][i],(105,105))\n",
    "    plt.imshow(image)\n",
    "    plt.show()\n",
    "    print(\"similarity/distance: \" + str(targets[i]))"
   ]
  },
  {
   "cell_type": "markdown",
   "metadata": {},
   "source": [
    "\n"
   ]
  },
  {
   "cell_type": "markdown",
   "metadata": {},
   "source": [
    "# Build the model with L_1 norm"
   ]
  },
  {
   "cell_type": "markdown",
   "metadata": {},
   "source": [
    "We build the first model by the Siamese Neural Network idea. It is widely used for one-shot or few shot applications. The Siamese Newral Network will map a image to a multi-dimension vector. The goal is to minimize the distance between vectors corresponding to the same charactor while maximize the distance for vectors from different charactors.\n",
    "\n",
    "In our first model, the siamese_network function maps each image to a 512 dimension vector. Then the prediction is made based on the L_1 distance between the target and the tested pair. The training of the model is set to minimize the standard MSE loss function.\n",
    "\n",
    "When we evaluate or apply the model to a new charactor, we will use the trained siamese_network to generate the 512 dimension vector of the target charactor and the candidate charactor. The candidate with the shortest distance is considered a match."
   ]
  },
  {
   "cell_type": "code",
   "execution_count": 7,
   "metadata": {},
   "outputs": [],
   "source": [
    "def siamese_network(x_input, reuse):\n",
    "    tf.summary.image('image_in'+str(reuse), x_input)\n",
    "    \n",
    "    with tf.variable_scope(\"shared_weights\", reuse=reuse):\n",
    "        conv1 = tf.layers.conv2d(x_input, 8, [10, 10], name='conv1', activation=tf.nn.relu)\n",
    "        maxp1 = tf.layers.max_pooling2d(conv1, (2,2),(2,2), name='maxp1')\n",
    "        \n",
    "        conv2 = tf.layers.conv2d(maxp1, 16, [7, 7], name='conv2', activation=tf.nn.relu)\n",
    "        maxp2 = tf.layers.max_pooling2d(conv2, (2,2),(2,2), name='maxp2')\n",
    "        \n",
    "        conv3 = tf.layers.conv2d(maxp2, 16, [4, 4], name='conv3', activation=tf.nn.relu)\n",
    "        maxp3 = tf.layers.max_pooling2d(conv3, (2,2),(2,2), name='maxp3')\n",
    "\n",
    "        conv4 = tf.layers.conv2d(maxp3, 32, [4, 4], name='conv4', activation=tf.nn.relu)\n",
    "        flattened = tf.contrib.layers.flatten(conv4)\n",
    "        \n",
    "        dense1 = tf.layers.dense(flattened, 512, activation=tf.nn.sigmoid, name=\"dense1\")          \n",
    "\n",
    "    return dense1"
   ]
  },
  {
   "cell_type": "code",
   "execution_count": 8,
   "metadata": {},
   "outputs": [],
   "source": [
    "# preparing for the training. Set log file number and configuration\n",
    "log_n = 0\n",
    "config = tf.ConfigProto()\n",
    "config.gpu_options.allow_growth = True\n"
   ]
  },
  {
   "cell_type": "code",
   "execution_count": 9,
   "metadata": {},
   "outputs": [],
   "source": [
    "tf.reset_default_graph()\n",
    "\n",
    "image1 = tf.placeholder(dtype=tf.float32, shape=[None, 105, 105, 1], name=\"image1\")\n",
    "image2 = tf.placeholder(dtype=tf.float32, shape=[None, 105, 105, 1], name=\"image2\")\n",
    "label_placeholder = tf.placeholder(dtype=tf.float32, shape=[None,1], name=\"labels\")\n",
    "\n",
    "## Process both images, the second network use the same weights from the first network\n",
    "out_1 = siamese_network(image1, None)\n",
    "out_2 = siamese_network(image2, True)\n"
   ]
  },
  {
   "cell_type": "code",
   "execution_count": null,
   "metadata": {},
   "outputs": [],
   "source": [
    "# calculate the distance\n",
    "l_one = tf.abs(tf.subtract(out_1, out_2))\n",
    "prediction = tf.layers.dense(l_one, 1, activation=tf.nn.sigmoid, name=\"output\")\n",
    "mseloss = tf.losses.mean_squared_error(label_placeholder, prediction)\n",
    "\n",
    "optimizer = tf.train.AdamOptimizer().minimize(mseloss)\n",
    "\n",
    "training_summary = tf.summary.scalar('mseloss', mseloss)\n",
    "merged = tf.summary.merge_all()"
   ]
  },
  {
   "cell_type": "markdown",
   "metadata": {},
   "source": [
    "## Train the model"
   ]
  },
  {
   "cell_type": "code",
   "execution_count": 11,
   "metadata": {},
   "outputs": [],
   "source": [
    "writer = tf.summary.FileWriter(logdir='graphs/log/'+str(log_n), graph=tf.get_default_graph())\n",
    "log_n += 1\n",
    "\n",
    "sess = tf.Session()\n",
    "sess.run(tf.global_variables_initializer())"
   ]
  },
  {
   "cell_type": "code",
   "execution_count": 12,
   "metadata": {},
   "outputs": [
    {
     "name": "stderr",
     "output_type": "stream",
     "text": [
      "100%|██████████| 5000/5000 [3:02:41<00:00,  2.17s/it]  \n"
     ]
    }
   ],
   "source": [
    "batch_size = 32\n",
    "iterations=5000\n",
    "\n",
    "for iteration in tqdm(range(iterations)):\n",
    "    pairs, targets = batch(train_data, batch_size)\n",
    "    targets = [[t] for t in targets]\n",
    "        \n",
    "    _, summary = sess.run([optimizer, merged], feed_dict={image1: pairs[0], image2: pairs[1], label_placeholder: targets})\n",
    "    writer.add_summary(summary, iteration)"
   ]
  },
  {
   "cell_type": "markdown",
   "metadata": {},
   "source": [
    "### Evaluate the model"
   ]
  },
  {
   "cell_type": "markdown",
   "metadata": {},
   "source": [
    "Notice that input[0] repeats the target charactor N times and the first one of input[1] is the matching character. When calculating the distance between each pair of target and test characters, we find the shortest distance pair as the prediction. If it was the first pair, it is a correct prediction or a wrong one otherwise."
   ]
  },
  {
   "cell_type": "code",
   "execution_count": 13,
   "metadata": {},
   "outputs": [
    {
     "name": "stderr",
     "output_type": "stream",
     "text": [
      "100%|██████████| 200/200 [01:32<00:00,  2.17it/s]"
     ]
    },
    {
     "name": "stdout",
     "output_type": "stream",
     "text": [
      "Accuracy in best of 20\n",
      "0.73\n"
     ]
    },
    {
     "name": "stderr",
     "output_type": "stream",
     "text": [
      "\n"
     ]
    }
   ],
   "source": [
    "CHOOSE_FROM_N = 20\n",
    "TEST_COUNT = 200\n",
    "\n",
    "correct_tested = 0\n",
    "\n",
    "for _ in tqdm(range(TEST_COUNT)):\n",
    "    inputs, targets = oneshot_task(val_data, CHOOSE_FROM_N)\n",
    "    pred = sess.run(prediction, \n",
    "                    feed_dict={image1: inputs[0], \n",
    "                               image2: inputs[1]})\n",
    "    maxindex = np.argmin(pred)\n",
    "\n",
    "    if maxindex == 0:\n",
    "        correct_tested += 1\n",
    "        \n",
    "print(\"Accuracy in best of \" + str(CHOOSE_FROM_N))\n",
    "print(correct_tested/TEST_COUNT)"
   ]
  },
  {
   "cell_type": "markdown",
   "metadata": {},
   "source": [
    " "
   ]
  },
  {
   "cell_type": "markdown",
   "metadata": {},
   "source": [
    "## Build the model with contrastive loss"
   ]
  },
  {
   "cell_type": "markdown",
   "metadata": {},
   "source": [
    "Instead of using the L_1 norm between vectors, we use the so called contrastive loss. The goal is to further distinguish the case with \"same\" charactor and \"different\" charactor. We want the same charactor has a closer distance while enlarge distance between different charactors. The formula can be found on:\n",
    "https://www.quora.com/What-is-a-contrastive-loss-function-in-Siamese-networks\n"
   ]
  },
  {
   "cell_type": "code",
   "execution_count": 17,
   "metadata": {},
   "outputs": [],
   "source": [
    "def contrastive_loss(vec1, vec2, labels, margin):\n",
    "    y = tf.reshape(labels, [-1])\n",
    "    with tf.name_scope(\"contrastive-loss\"):\n",
    "        l_two = tf.square(vec1-vec2)\n",
    "        distance = tf.reduce_sum(l_two, axis=1)\n",
    "        \n",
    "        negative = (1-y) * distance\n",
    "        positive = y * tf.maximum(0.0, margin - distance)\n",
    "        \n",
    "        contrastiveloss = negative + positive\n",
    "        contrastiveloss = tf.reduce_mean(contrastiveloss)\n",
    "    return contrastiveloss, distance\n",
    "\n",
    "margin=1\n",
    "contrastiveloss, distance = contrastive_loss(out_1, out_2, label_placeholder, margin)\n",
    "contr_loss_summary = tf.summary.scalar('contrastiveloss', contrastiveloss)\n",
    "merged = tf.summary.merge_all()\n",
    "\n",
    "optimizer = tf.train.AdamOptimizer().minimize(contrastiveloss)"
   ]
  },
  {
   "cell_type": "code",
   "execution_count": 18,
   "metadata": {},
   "outputs": [],
   "source": [
    "writer = tf.summary.FileWriter(logdir='graphs/log/'+str(log_n), graph=tf.get_default_graph())\n",
    "log_n += 1\n",
    "\n",
    "sess2 = tf.Session(config=config)\n",
    "sess2.run(tf.global_variables_initializer())"
   ]
  },
  {
   "cell_type": "code",
   "execution_count": 21,
   "metadata": {},
   "outputs": [
    {
     "name": "stderr",
     "output_type": "stream",
     "text": [
      "100%|██████████| 5000/5000 [3:02:08<00:00,  2.17s/it]  \n"
     ]
    }
   ],
   "source": [
    "BATCH_SIZE = 32\n",
    "\n",
    "for iteration in tqdm(range(5000)):\n",
    "    pairs, targets = batch(train_data, BATCH_SIZE)\n",
    "    targets = [[t] for t in targets]\n",
    "    _, summary = sess2.run([optimizer, merged], feed_dict={image1: pairs[0], image2: pairs[1], label_placeholder: targets})\n",
    "    writer.add_summary(summary, iteration)"
   ]
  },
  {
   "cell_type": "markdown",
   "metadata": {},
   "source": [
    "## Evaluate the model"
   ]
  },
  {
   "cell_type": "markdown",
   "metadata": {},
   "source": [
    "We use the same evaluating method as the base model. Notice that, though we train on the contrasive loss, we use the L_2 norm as the indication for the \"closest\" character. "
   ]
  },
  {
   "cell_type": "code",
   "execution_count": 22,
   "metadata": {},
   "outputs": [
    {
     "name": "stderr",
     "output_type": "stream",
     "text": [
      "100%|██████████| 200/200 [01:32<00:00,  2.15it/s]"
     ]
    },
    {
     "name": "stdout",
     "output_type": "stream",
     "text": [
      "Accuracy in best of 20\n",
      "0.72\n"
     ]
    },
    {
     "name": "stderr",
     "output_type": "stream",
     "text": [
      "\n"
     ]
    }
   ],
   "source": [
    "CHOOSE_FROM_N = 20\n",
    "TEST_COUNT = 200\n",
    "correct_tested = 0\n",
    "\n",
    "for _ in tqdm(range(TEST_COUNT)):\n",
    "    inputs, targets = oneshot_task(val_data, CHOOSE_FROM_N)\n",
    "    dist = sess2.run(distance, feed_dict={image1: inputs[0], image2: inputs[1]})\n",
    "    maxindex = np.argmin(dist)\n",
    "\n",
    "    if maxindex == 0:\n",
    "        correct_tested += 1\n",
    "print(\"Accuracy in best of \" + str(CHOOSE_FROM_N))\n",
    "print(correct_tested/TEST_COUNT)"
   ]
  },
  {
   "cell_type": "markdown",
   "metadata": {},
   "source": [
    " "
   ]
  },
  {
   "cell_type": "markdown",
   "metadata": {},
   "source": [
    "# Further work"
   ]
  },
  {
   "cell_type": "markdown",
   "metadata": {},
   "source": [
    "## Model with tripple lose function"
   ]
  },
  {
   "cell_type": "markdown",
   "metadata": {},
   "source": [
    "The next model will utilize the so-called triplet loss. Instead of drawing pairs, we will train the model with triple samples: the target charactor, image from the same charactor and a different charactor. This idea is widely used in face recognition application, which a good example of one-shot seiamese neural network. For each triplet, we calculate the distance with the 'same' pair and the 'different' pair and make sure they are far-away enough.\n",
    "\n",
    "This model will require the rewrite of the batch function. But we will still use the seiamese neural network architecure."
   ]
  },
  {
   "cell_type": "code",
   "execution_count": null,
   "metadata": {},
   "outputs": [],
   "source": []
  }
 ],
 "metadata": {
  "kernelspec": {
   "display_name": "Python 3",
   "language": "python",
   "name": "python3"
  },
  "language_info": {
   "codemirror_mode": {
    "name": "ipython",
    "version": 3
   },
   "file_extension": ".py",
   "mimetype": "text/x-python",
   "name": "python",
   "nbconvert_exporter": "python",
   "pygments_lexer": "ipython3",
   "version": "3.6.8"
  }
 },
 "nbformat": 4,
 "nbformat_minor": 2
}
